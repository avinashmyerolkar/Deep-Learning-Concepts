{
  "nbformat": 4,
  "nbformat_minor": 0,
  "metadata": {
    "colab": {
      "provenance": [],
      "authorship_tag": "ABX9TyO23q/IR/Kvq6GH4mXC09f4",
      "include_colab_link": true
    },
    "kernelspec": {
      "name": "python3",
      "display_name": "Python 3"
    },
    "language_info": {
      "name": "python"
    }
  },
  "cells": [
    {
      "cell_type": "markdown",
      "metadata": {
        "id": "view-in-github",
        "colab_type": "text"
      },
      "source": [
        "<a href=\"https://colab.research.google.com/github/avinashmyerolkar/Deep-Learning-Concepts/blob/main/LeNet_5_Architecture_in_CNN.ipynb\" target=\"_parent\"><img src=\"https://colab.research.google.com/assets/colab-badge.svg\" alt=\"Open In Colab\"/></a>"
      ]
    },
    {
      "cell_type": "code",
      "execution_count": 1,
      "metadata": {
        "id": "1qvEsEROShFP"
      },
      "outputs": [],
      "source": [
        "import tensorflow\n",
        "from tensorflow import keras\n",
        "from tensorflow.keras.layers import Dense, Conv2D, AveragePooling2D, Flatten\n",
        "from tensorflow.keras import Sequential\n",
        "from keras.datasets import mnist"
      ]
    },
    {
      "cell_type": "code",
      "source": [
        "(x_train,y_train),(x_test,y_test) = mnist.load_data()"
      ],
      "metadata": {
        "colab": {
          "base_uri": "https://localhost:8080/"
        },
        "id": "BMNPKqffTJ_o",
        "outputId": "13742cb0-638b-42c8-b87f-9c9908880744"
      },
      "execution_count": 2,
      "outputs": [
        {
          "output_type": "stream",
          "name": "stdout",
          "text": [
            "Downloading data from https://storage.googleapis.com/tensorflow/tf-keras-datasets/mnist.npz\n",
            "11490434/11490434 [==============================] - 0s 0us/step\n"
          ]
        }
      ]
    },
    {
      "cell_type": "code",
      "source": [
        "# Key features of the LeNet architecture include:\n",
        "\n",
        "# Input Layer: Accepts grayscale images of size 32x32 pixels.\n",
        "\n",
        "#Convolutional Layers: Consists of two convolutional layers, C1 and C3. C1 has 6 5x5 filters, and C3 has 16 5x5 filters. Both layers use the tanh activation function.\n",
        "\n",
        "# Subsampling Layers: Includes two subsampling layers, S2 and S4. They perform average pooling with a 2x2 window and a stride of 2, reducing the spatial dimensions.\n",
        "\n",
        "# Fully Connected Layers: Comprises two fully connected layers, F5 and F6. F5 has 120 units, and F6 has 84 units. F6 is the output layer with connections to the 84 units of F5."
      ],
      "metadata": {
        "id": "ktgpHmxvVcNT"
      },
      "execution_count": null,
      "outputs": []
    },
    {
      "cell_type": "code",
      "source": [
        "#LeNet Architecture"
      ],
      "metadata": {
        "id": "uu33NopETYTP"
      },
      "execution_count": null,
      "outputs": []
    },
    {
      "cell_type": "code",
      "source": [
        "model = Sequential()\n",
        "\n",
        "# 1st Layer\n",
        "model.add(Conv2D(6,kernel_size=(5,5),padding='valid',activation='tanh',input_shape=(32,32,1)))  #C1\n",
        "model.add(AveragePooling2D(pool_size=(2,2),strides=2,padding='valid')) #S2\n",
        "\n",
        "#2nd Layer\n",
        "model.add(Conv2D(16,kernel_size=(5,5),padding='valid',activation='tanh'))  #C3\n",
        "model.add(AveragePooling2D(pool_size=(2,2),strides=2,padding='valid')) #S4\n",
        "\n",
        "#flattening the layer to give it to FC layer\n",
        "model.add(Flatten())\n",
        "\n",
        "#3rd Layer\n",
        "model.add(Dense(120,activation='tanh')) # F5\n",
        "\n",
        "#4th Layer\n",
        "model.add(Dense(84,activation='tanh')) #F6\n",
        "\n",
        "#5th Layer\n",
        "model.add(Dense(10,activation='softmax')) #output layer\n",
        "\n",
        "model.summary()\n",
        "\n",
        "\n"
      ],
      "metadata": {
        "colab": {
          "base_uri": "https://localhost:8080/"
        },
        "id": "USIW9iQ4Teki",
        "outputId": "bc4baa00-e925-44a6-8c64-56ef3622631b"
      },
      "execution_count": 5,
      "outputs": [
        {
          "output_type": "stream",
          "name": "stdout",
          "text": [
            "Model: \"sequential_2\"\n",
            "_________________________________________________________________\n",
            " Layer (type)                Output Shape              Param #   \n",
            "=================================================================\n",
            " conv2d_4 (Conv2D)           (None, 28, 28, 6)         156       \n",
            "                                                                 \n",
            " average_pooling2d_4 (Averag  (None, 14, 14, 6)        0         \n",
            " ePooling2D)                                                     \n",
            "                                                                 \n",
            " conv2d_5 (Conv2D)           (None, 10, 10, 16)        2416      \n",
            "                                                                 \n",
            " average_pooling2d_5 (Averag  (None, 5, 5, 16)         0         \n",
            " ePooling2D)                                                     \n",
            "                                                                 \n",
            " flatten_2 (Flatten)         (None, 400)               0         \n",
            "                                                                 \n",
            " dense_6 (Dense)             (None, 120)               48120     \n",
            "                                                                 \n",
            " dense_7 (Dense)             (None, 84)                10164     \n",
            "                                                                 \n",
            " dense_8 (Dense)             (None, 10)                850       \n",
            "                                                                 \n",
            "=================================================================\n",
            "Total params: 61,706\n",
            "Trainable params: 61,706\n",
            "Non-trainable params: 0\n",
            "_________________________________________________________________\n"
          ]
        }
      ]
    }
  ]
}